{
 "cells": [
  {
   "cell_type": "markdown",
   "metadata": {},
   "source": [
    "# The Notebook\n",
    "\n",
    "This is a _notebook_: a document that can contain rich text elements—headings, paragraph text, hyperlinks, mathematical symbols and embedded figures—and interactive code elements. The document uses \"cells\" to divide up the text and code elements: text is formatted using markdown, and code can be executed using the IPython kernel.\n",
    "\n",
    "[Markdown](https://en.wikipedia.org/wiki/Markdown) is an easy way to format text to be displayed on a browser. You can format headings, bold face, italics, add a horizonal line, hyperlink some text, add bulleted or numbered lists. It's so easy, you can learn it in minutes! The \"Daring Fireball\" (by John Gruber) [markdown syntax](https://daringfireball.net/projects/markdown/syntax) page is a nice starting point or reference."
   ]
  },
  {
   "cell_type": "markdown",
   "metadata": {},
   "source": [
    "## Nbviewer\n",
    "\n",
    "If you came to view this notebook following the link on the tutorial description, [\"The world of Jupyter\"](https://github.com/barbagroup/jupyter-tutorial/blob/master/World-of-Jupyter.md) (itself, a markdown file), then you are seeing it rendered as a static webpage on the free [**nbviewer**](http://nbviewer.jupyter.org) service. It is the simplest way to share a notebook with anyone: just host the notebook file (`.ipynb` extension) online and enter the public URL to the file on the **nbviewer** _Go!_ box. The notebook will be rendered like a static webpage: visitors can read everything, but they cannot interact with the code. \n",
    "\n",
    "To interact with a notebook, you need the Jupyter Notebook App, either locally installed on your computer or on some cloud service."
   ]
  },
  {
   "cell_type": "markdown",
   "metadata": {},
   "source": [
    "## Jupyter Notebook App\n",
    "\n",
    "If you want to see what the Jupyter Notebook App looks like, you can try it right now on this free service: [https://try.jupyter.org](https://try.jupyter.org). You should see the _Dashboard_, which shows a list of available files, like this:\n",
    "\n",
    "![dashboard](http://jupyter.readthedocs.io/en/latest/_images/tryjupyter_file.png)\n",
    "\n",
    "Click on the _New_ button on the top right, and choose \"Python 3\" from the pull-down options to get a notebook that is connected to the IPython kernel. You should get an empty notebook with a single empty code cell labeled `In[ ]`, with a flashing cursor inside. This is a code cell. You can start by trying any simple mathematical operation (like a calculator), and type `[shift] + [enter]` to execute it.\n",
    "\n",
    "You can try any of the arithmetic operators in Python:\n",
    "```python\n",
    "    +   -   *   /   **   %   //\n",
    "```\n",
    "\n",
    "For example:"
   ]
  },
  {
   "cell_type": "code",
   "execution_count": 1,
   "metadata": {
    "collapsed": false
   },
   "outputs": [
    {
     "data": {
      "text/plain": [
       "24"
      ]
     },
     "execution_count": 1,
     "metadata": {},
     "output_type": "execute_result"
    }
   ],
   "source": [
    "2 * 12"
   ]
  },
  {
   "cell_type": "markdown",
   "metadata": {},
   "source": [
    "Typing `[shift] + [enter]` will execute the cell and give you the output in a new line, labeled `Out[1]` (the numbering increases each time you execute a cell). You will also get a new blank cell, where you can try more arithmetic operations, if you want. Or, you can change the type of cell from _Code_ to _Markdown_ with the button on the menu bar. See if you find that now, and then type some text into a markdwon cell. Try some [markdown syntax](https://daringfireball.net/projects/markdown/syntax)!\n",
    "\n",
    "In a code cell, you can enter any valid Python code, and type `[shift] + [enter]` to execute it. For example, the simplest code example that simply prints the message _Hello World!_ is:"
   ]
  },
  {
   "cell_type": "code",
   "execution_count": 2,
   "metadata": {
    "collapsed": false
   },
   "outputs": [
    {
     "name": "stdout",
     "output_type": "stream",
     "text": [
      "Hello World!\n"
     ]
    }
   ],
   "source": [
    "print(\"Hello World!\")"
   ]
  },
  {
   "cell_type": "markdown",
   "metadata": {},
   "source": [
    "Or, you can define a variable, say `x`, and assign it a value (say, 2), then use that variable in some code:"
   ]
  },
  {
   "cell_type": "code",
   "execution_count": 3,
   "metadata": {
    "collapsed": true
   },
   "outputs": [],
   "source": [
    "x = 2"
   ]
  },
  {
   "cell_type": "code",
   "execution_count": 4,
   "metadata": {
    "collapsed": false
   },
   "outputs": [
    {
     "name": "stdout",
     "output_type": "stream",
     "text": [
      "Hello World!Hello World!\n"
     ]
    }
   ],
   "source": [
    "print(x * \"Hello World!\")"
   ]
  },
  {
   "cell_type": "code",
   "execution_count": 5,
   "metadata": {
    "collapsed": false
   },
   "outputs": [
    {
     "data": {
      "text/plain": [
       "24"
      ]
     },
     "execution_count": 5,
     "metadata": {},
     "output_type": "execute_result"
    }
   ],
   "source": [
    "x * 12"
   ]
  },
  {
   "cell_type": "markdown",
   "metadata": {},
   "source": []
  }
 ],
 "metadata": {
  "kernelspec": {
   "display_name": "Python 3",
   "language": "python",
   "name": "python3"
  },
  "language_info": {
   "codemirror_mode": {
    "name": "ipython",
    "version": 3
   },
   "file_extension": ".py",
   "mimetype": "text/x-python",
   "name": "python",
   "nbconvert_exporter": "python",
   "pygments_lexer": "ipython3",
   "version": "3.5.1"
  }
 },
 "nbformat": 4,
 "nbformat_minor": 0
}
