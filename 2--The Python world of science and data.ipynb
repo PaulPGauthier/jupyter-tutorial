{
 "cells": [
  {
   "cell_type": "markdown",
   "metadata": {},
   "source": [
    "# The Python world of science and data\n",
    "\n",
    "The [Jupyter notebook](http://nbviewer.jupyter.org/github/barbagroup/jupyter-tutorial/blob/master/1--The%20Notebook.ipynb) is a nice way to write and share some content online, but you'll get super powers from Python libraries for science and data.\n",
    "\n",
    "We can use code cells to do simple calculations. The arithmetic operators in Python are:\n",
    "```python\n",
    "    +   -   *   /   **   %   //\n",
    "```\n",
    "\n",
    "The last three operators above are _exponent_ (raise to the power of), _modulo_ (divide and return remainder) and _floor division_. Be careful that the division operator behaves differently in legacy Python 2: it rounds to an integer when the operands are integers. We use Python 3 and don't worry about this, because it gives the expected result, e.g., `1/2` gives `0.5` (not zero!).\n",
    "\n",
    "In addition to arithmetics, you can do comparisons with operators that return Boolean values (`True` or `False`). These are:\n",
    "```python\n",
    "    ==   !=   <   >   <=   >=\n",
    "```\n",
    "\n",
    "On top of those, you have assignment operators, bitwise operators, logical operators, membership operators, and identity operators. You can find online several \"cheat sheets\" for Python operators. For example: [\"Operators and expressions\"](http://pymbook.readthedocs.io/en/latest/operatorsexpressions.html) in the online book _\"Python for You and Me.\"_\n",
    "\n",
    "Go ahead and experiment with various Python operators until you're satisfied. You can open a new, empty notebook and experiment in code cells, taking notes of the things that you find interesting in markdown cells.\n",
    "\n",
    "Next, let's learn about the Python world of science and data."
   ]
  },
  {
   "cell_type": "markdown",
   "metadata": {},
   "source": [
    "## Two libraries that made Python useful for science: NumPy and Matplotlib\n",
    "\n",
    "Python is a general-purpose language: you can use it to create websites, to write programs that crawl the web, to support you in scientific research or data analysis, etc. Because it can be used in so many fields, the core language is supported by many libraries (not everyone needs to have every functionality). In science, the two libraries that first made Python useful were **NumPy** and **Matplotlib**.\n",
    "\n",
    "**NumPy** gives you access to numerical mathematics on arrays (like vectors and matrices). **Matplotlib** gives you a catalog of plotting functions for visualizing data."
   ]
  },
  {
   "cell_type": "code",
   "execution_count": null,
   "metadata": {
    "collapsed": true
   },
   "outputs": [],
   "source": []
  }
 ],
 "metadata": {
  "kernelspec": {
   "display_name": "Python 3",
   "language": "python",
   "name": "python3"
  },
  "language_info": {
   "codemirror_mode": {
    "name": "ipython",
    "version": 3
   },
   "file_extension": ".py",
   "mimetype": "text/x-python",
   "name": "python",
   "nbconvert_exporter": "python",
   "pygments_lexer": "ipython3",
   "version": "3.5.1"
  }
 },
 "nbformat": 4,
 "nbformat_minor": 0
}
