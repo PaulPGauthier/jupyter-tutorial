{
 "cells": [
  {
   "cell_type": "markdown",
   "metadata": {},
   "source": [
    "# The Python world of science and data\n",
    "\n",
    "The [Jupyter notebook](http://nbviewer.jupyter.org/github/barbagroup/jupyter-tutorial/blob/master/1--The%20Notebook.ipynb) is a nice way to write and share some content online, but you'll get super powers from Python libraries for science and data.\n",
    "\n",
    "We can use code cells to do simple calculations. The arithmetic operators in Python are:\n",
    "```python\n",
    "    +   -   *   /   **   %   //\n",
    "```\n",
    "\n",
    "The last three operators above are _exponent_ (raise to the power of), _modulo_ (divide and return remainder) and _floor division_. Be careful that the division operator behaves differently in legacy Python 2: it rounds to an integer when the operands are integers. We use Python 3 and don't worry about this, because it gives the expected result, e.g., `1/2` gives `0.5` (not zero!).\n",
    "\n",
    "In addition to arithmetics, you can do comparisons with operators that return Boolean values (`True` or `False`). These are:\n",
    "```python\n",
    "    ==   !=   <   >   <=   >=\n",
    "```\n",
    "\n",
    "On top of those, you have assignment operators, bitwise operators, logical operators, membership operators, and identity operators. You can find online several \"cheat sheets\" for Python operators. For example: [\"Operators and expressions\"](http://pymbook.readthedocs.io/en/latest/operatorsexpressions.html) in the online book _\"Python for You and Me.\"_\n",
    "\n",
    "Go ahead and experiment with various Python operators until you're satisfied. You can open a new, empty notebook and experiment in code cells, taking notes of the things that you find interesting in markdown cells.\n",
    "\n",
    "Next, let's learn about the Python world of science and data."
   ]
  },
  {
   "cell_type": "markdown",
   "metadata": {},
   "source": [
    "## Two libraries that made Python useful for science: NumPy and Matplotlib\n",
    "\n",
    "Python is a general-purpose language: you can use it to create websites, to write programs that crawl the web, to support you in scientific research or data analysis, etc. Because it can be used in so many fields, the core language is supported by many libraries (not everyone needs to have every functionality). In science, the two libraries that first made Python useful were **NumPy** and **Matplotlib**.\n",
    "\n",
    "**NumPy** gives you access to numerical mathematics on arrays (like vectors and matrices). **Matplotlib** gives you a catalog of plotting functions for visualizing data."
   ]
  },
  {
   "cell_type": "code",
   "execution_count": 1,
   "metadata": {
    "collapsed": true
   },
   "outputs": [],
   "source": [
    "import numpy"
   ]
  },
  {
   "cell_type": "markdown",
   "metadata": {},
   "source": [
    "The command `import` followed by the name of a library will extend your Python session with all of the functions in that library. Now we have all of **NumPy** available to us. In this case, we prepend `numpy.` (with the dot) to the function name to use it. For example:"
   ]
  },
  {
   "cell_type": "code",
   "execution_count": 2,
   "metadata": {
    "collapsed": false
   },
   "outputs": [
    {
     "data": {
      "text/plain": [
       "array([ 0.        ,  0.55555556,  1.11111111,  1.66666667,  2.22222222,\n",
       "        2.77777778,  3.33333333,  3.88888889,  4.44444444,  5.        ])"
      ]
     },
     "execution_count": 2,
     "metadata": {},
     "output_type": "execute_result"
    }
   ],
   "source": [
    "numpy.linspace(0, 5, 10)"
   ]
  },
  {
   "cell_type": "markdown",
   "metadata": {},
   "source": [
    "The **NumPy** function [`linspace()`](http://docs.scipy.org/doc/numpy/reference/generated/numpy.linspace.html)  creates an array with equally spaced numbers between a start and end. Above, it created an array of 10 numbers from 0 to 5. This is a very useful function!\n",
    "\n",
    "To be able to do something with this array later, we normally want to give it a name. Like,"
   ]
  },
  {
   "cell_type": "code",
   "execution_count": 3,
   "metadata": {
    "collapsed": true
   },
   "outputs": [],
   "source": [
    "xarray = numpy.linspace(0, 5, 10)"
   ]
  },
  {
   "cell_type": "markdown",
   "metadata": {},
   "source": [
    "Now, we can use **NumPy** to do computations with the array. Like take its square:"
   ]
  },
  {
   "cell_type": "code",
   "execution_count": 4,
   "metadata": {
    "collapsed": false
   },
   "outputs": [
    {
     "data": {
      "text/plain": [
       "array([  0.        ,   0.30864198,   1.2345679 ,   2.77777778,\n",
       "         4.9382716 ,   7.71604938,  11.11111111,  15.12345679,\n",
       "        19.75308642,  25.        ])"
      ]
     },
     "execution_count": 4,
     "metadata": {},
     "output_type": "execute_result"
    }
   ],
   "source": [
    "xarray ** 2"
   ]
  },
  {
   "cell_type": "markdown",
   "metadata": {},
   "source": [
    "You will likely want to give your result a name, too. So let's do that again, and also take the cube, and the square root of the array at the same time."
   ]
  },
  {
   "cell_type": "code",
   "execution_count": 5,
   "metadata": {
    "collapsed": true
   },
   "outputs": [],
   "source": [
    "yarray = xarray ** 2\n",
    "zarray = xarray ** 3\n",
    "warray = numpy.sqrt(xarray)"
   ]
  },
  {
   "cell_type": "markdown",
   "metadata": {},
   "source": [
    "You notice that **NumPy** knows how to take the power of an array, and it has a built-in function for the square-root. Now, you may want to draw a plot of these results with the original array on the x-axis. For that we need the module `pyplot` from **Matplotlib**."
   ]
  },
  {
   "cell_type": "code",
   "execution_count": 6,
   "metadata": {
    "collapsed": true
   },
   "outputs": [],
   "source": [
    "from matplotlib import pyplot\n",
    "%matplotlib notebook"
   ]
  },
  {
   "cell_type": "markdown",
   "metadata": {},
   "source": [
    "The command `%matplotlib notebook` is there to get our plots inside the notebook (instead of a pop-up window, which is the default behavior of `pyplot`). Let's try a line plot now!"
   ]
  },
  {
   "cell_type": "code",
   "execution_count": null,
   "metadata": {
    "collapsed": true
   },
   "outputs": [],
   "source": []
  }
 ],
 "metadata": {
  "kernelspec": {
   "display_name": "Python 3",
   "language": "python",
   "name": "python3"
  },
  "language_info": {
   "codemirror_mode": {
    "name": "ipython",
    "version": 3
   },
   "file_extension": ".py",
   "mimetype": "text/x-python",
   "name": "python",
   "nbconvert_exporter": "python",
   "pygments_lexer": "ipython3",
   "version": "3.5.1"
  }
 },
 "nbformat": 4,
 "nbformat_minor": 0
}
