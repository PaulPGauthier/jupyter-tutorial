{
 "cells": [
  {
   "cell_type": "markdown",
   "metadata": {},
   "source": [
    "# Jupyter like a pro\n",
    "\n",
    "In this third notebook of the tutorial [\"The World of Jupyter\"](https://github.com/barbagroup/jupyter-tutorial/blob/master/World-of-Jupyter.md), we want to leave you with pro tips for using Jupyter in your future work."
   ]
  },
  {
   "cell_type": "markdown",
   "metadata": {},
   "source": [
    "## Importing libraries\n",
    "\n",
    "First, a word on importing libraries. Previously, we used the following command to load all the functions in the **NumPy** library:\n",
    "```python\n",
    "import numpy\n",
    "```\n",
    "Once you execute that command in a code cell, you call any **NumPy** function by prepending the library name, e.g., `numpy.linspace()`, [`numpy.ones()`](https://docs.scipy.org/doc/numpy/reference/generated/numpy.ones.html#numpy.ones), [`numpy.zeros()`](https://docs.scipy.org/doc/numpy/reference/generated/numpy.zeros.html#numpy.zeros), [`numpy.empty()`](https://docs.scipy.org/doc/numpy/reference/generated/numpy.empty.html#numpy.empty), [`numpy.copy()`](https://docs.scipy.org/doc/numpy/reference/generated/numpy.copy.html#numpy.copy), and so on (explore the documentation for these very useful functions!).\n",
    "\n",
    "But, you will find _a lot_ of sample code online that uses a different syntax for importing. They will do:\n",
    "```python\n",
    "import numpy as np\n",
    "```\n",
    "All this does is create an alias for `numpy` with the shorter string `np`, so you then would call a **NumPy** function like this: `np.linspace()`. This is just an alternative way of doing it, for lazy people that find it too long to type `numpy` and want to save 3 characters each time. For the not-lazy, typing `numpy` is more readable and beautiful. We like it better like this:"
   ]
  },
  {
   "cell_type": "code",
   "execution_count": null,
   "metadata": {
    "collapsed": true
   },
   "outputs": [],
   "source": [
    "import numpy"
   ]
  },
  {
   "cell_type": "markdown",
   "metadata": {},
   "source": [
    "## Make your plots beautiful\n",
    "\n",
    "When you make a plot using **Matplotlib**, you have many options to make your plots beautiful and publication-ready. Here are some of our favorite tricks.\n",
    "\n",
    "First, let's load the `pyplot` module. Our first trick is `rcparams`: we use it to customize the appearance of the plots. Here, we set the default font to a serif type of size 14 pt and make the size of the font for the axes labels 18 pt. Honestly, the default font is too small."
   ]
  },
  {
   "cell_type": "code",
   "execution_count": null,
   "metadata": {
    "collapsed": true
   },
   "outputs": [],
   "source": [
    "from matplotlib import pyplot\n",
    "%matplotlib notebook\n",
    "pyplot.rcParams['font.family'] = 'serif'\n",
    "pyplot.rcParams['font.size'] = 14\n",
    "pyplot.rcParams['axes.labelsize'] = 18"
   ]
  },
  {
   "cell_type": "markdown",
   "metadata": {},
   "source": [
    "The following example is from a tutorial by [Dr. Justin Bois](http://www.justinbois.info), a lecturer in Biology and Biological Engineering at Caltech, for his class in [Data Analysis in the Biological Sciences](http://bebi103.caltech.edu/2015/) (2015). He has given us permission to use it."
   ]
  },
  {
   "cell_type": "code",
   "execution_count": null,
   "metadata": {
    "collapsed": false
   },
   "outputs": [],
   "source": [
    "# Get an array of 100 evenly spaced points from 0 to 2*pi\n",
    "x = numpy.linspace(0.0, 2.0 * numpy.pi, 100)\n",
    "\n",
    "# Make a pointwise function of x with exp(sin(x))\n",
    "y = numpy.exp(numpy.sin(x))"
   ]
  },
  {
   "cell_type": "code",
   "execution_count": null,
   "metadata": {
    "collapsed": false
   },
   "outputs": [],
   "source": [
    "pyplot.figure()\n",
    "pyplot.plot(x, y, color='k', linestyle='-')\n",
    "pyplot.xlabel('$x$')\n",
    "pyplot.ylabel('$\\mathrm{e}^{\\sin(x)}$')\n",
    "pyplot.xlim(0.0, 2.0 * numpy.pi)\n",
    "pyplot.show();"
   ]
  },
  {
   "cell_type": "markdown",
   "metadata": {},
   "source": [
    "Did you see how **Matplotlib** understands LaTeX mathematics? That is beautiful. In the `pyplot.plot()` function, we specify the line color (`'k'` for black) and line style (`'-'` for continuous line). The function `pyplot.xlim()` specifies the limits of the x-axis (you can also manually specify the y-axis, if the defaults are not good for you).\n",
    "\n",
    "Continuing with the tutorial example by Justin Bois, let's have some mathematical fun and numerically compute the derivative of this function, using finite differences. We need to apply the following mathematical formula on all the discrete points of the `x` array:\n",
    "\n",
    "\\begin{equation}\n",
    "\\frac{\\mathrm{d}y(x_i)}{\\mathrm{d}x} \\approx \\frac{y(x_{i+1}) - y(x_i)}{x_{i+1} - x_i}.\n",
    "\\end{equation}\n",
    "\n",
    "By the way, did you notice how we can typeset beautiful mathematics within a markdown cell? The Jupyter notebook is happy typesetting mathematics using LaTeX syntax.\n",
    "\n",
    "Since this notebook is _\"Jupyter like a pro,\"_ we will define a custom Python function to compute the forward difference. It is good form to define custon functions to make your code modular and reusable."
   ]
  },
  {
   "cell_type": "code",
   "execution_count": null,
   "metadata": {
    "collapsed": true
   },
   "outputs": [],
   "source": [
    "def forward_diff(y, x):\n",
    "    \"\"\"Compute derivative by forward differencing.\"\"\"\n",
    "\n",
    "    # Use numpy.empty to make an empty array to put our derivatives in\n",
    "    deriv = numpy.empty(len(y) - 1)\n",
    "\n",
    "    # Use a for-loop to go through each point and compute the derivative.\n",
    "    for i in range(len(y)-1):\n",
    "        deriv[i] = (y[i+1] - y[i]) / (x[i+1] - x[i])\n",
    "        \n",
    "    # Return the derivative (a NumPy array)\n",
    "    return deriv\n",
    "        \n",
    "# Call the function to perform finite differencing\n",
    "deriv = forward_diff(y, x)"
   ]
  },
  {
   "cell_type": "markdown",
   "metadata": {},
   "source": [
    "Notice how we define a function with the `def` statement, followed by our custom name for the fuction, the function arguments in parenthesis, and ending the statement with a colon. The contents of the function are indicated by the indentation (four spaces, in this case), and the `return` statement indicates what the function returns to the code that called it (in this case, the contents of the variable `deriv`). In between triple quotes is the _docstring_, a short text documenting what the function does. It is good form to always write docstrings for your functions!\n",
    "\n",
    "In our custom `forward_diff()` function, we used `numpy.empty()` to create an empty array of length `len(y)-1`, that is, one less than the length of the array `y`. Then, we start a for-loop that iterates over values of `i` using the [`range()`](https://docs.python.org/3/library/functions.html#func-range) function of Python. This is a very useful function that you should think about for a little bit. What it does is create a list of numbers. If you give it just one argument, it's a _\"stop\"_ argument: `range(stop)` creates a list of integers from `0` to `stop-1`, i.e., the list has `stop` numbers in it because it always starts at zero. But you can also give it a _\"start\"_ and _\"step\"_ argument.\n",
    "\n",
    "Experiment with this, if you need to. It's important that you internalize the way `range()` works. Go ahead and create a new code cell, and try things like:\n",
    "```python\n",
    "for i in range(5):\n",
    "   print(i)\n",
    "```\n",
    "changing the arguments of `range()`. (Note how we end the `for` statement with a colon.) Now think for a bit: how many numbers does the list have in the case of our custom function `forward_diff()`?"
   ]
  },
  {
   "cell_type": "markdown",
   "metadata": {},
   "source": [
    "Now, we will make a plot of the numerical derivative of $\\exp(\\sin(x))$. We can also compare with the analytical derivative:\n",
    "\n",
    "\\begin{equation}\n",
    "\\frac{\\mathrm{d}y}{\\mathrm{d}x} = \\mathrm{e}^{\\sin x}\\,\\cos x = y \\cos x,\n",
    "\\end{equation}"
   ]
  },
  {
   "cell_type": "code",
   "execution_count": null,
   "metadata": {
    "collapsed": false
   },
   "outputs": [],
   "source": [
    "deriv_exact = y * numpy.cos(x) # analytical derivative\n",
    "\n",
    "pyplot.figure()\n",
    "pyplot.plot((x[1:] + x[:-1]) / 2.0, deriv, marker='.', color='gray', \n",
    "         linestyle='None', markersize=10)\n",
    "pyplot.plot(x, deriv_exact, 'k-') # analytical derivative in black line\n",
    "\n",
    "pyplot.xlabel('$x$')\n",
    "pyplot.ylabel('$\\mathrm{d}y/\\mathrm{d}x$')\n",
    "pyplot.xlim((0.0, 2.0 * numpy.pi))\n",
    "pyplot.legend(('numerical', 'analytical'), loc='upper center', numpoints=1)\n",
    "pyplot.show();"
   ]
  },
  {
   "cell_type": "markdown",
   "metadata": {},
   "source": [
    "### There's a built-in for that\n",
    "\n",
    "Here's another pro tip: whenever you find yourself writing a custom function for something that seems that a lot of people might use, find out first if there's a built-in for that. In this case, **NumPy** does indeed have a built-in for taking the numerical derivative by differencing! Check it out. We also use the function `numpy.allclose()` to check if two results are close."
   ]
  },
  {
   "cell_type": "code",
   "execution_count": null,
   "metadata": {
    "collapsed": false
   },
   "outputs": [],
   "source": [
    "numpy_deriv = numpy.diff(y) / numpy.diff(x)\n",
    "print('Are the two results close? ', numpy.allclose(numpy_deriv, deriv))"
   ]
  },
  {
   "cell_type": "markdown",
   "metadata": {},
   "source": [
    "Not only is the code much more compact and easy to read with the built-in **NumPy** function for the numerical derivative ... it is also much faster:"
   ]
  },
  {
   "cell_type": "code",
   "execution_count": null,
   "metadata": {
    "collapsed": false
   },
   "outputs": [],
   "source": [
    "%timeit numpy_deriv = numpy.diff(y) / numpy.diff(x)\n",
    "%timeit deriv = forward_diff(y, x)"
   ]
  },
  {
   "cell_type": "markdown",
   "metadata": {},
   "source": [
    "**NumPy** functions will always be faster than equivalent code you write yourself because at the heart they use pre-compiled code and highly optimized numerical libraries, like BLAS and LAPACK."
   ]
  },
  {
   "cell_type": "markdown",
   "metadata": {},
   "source": [
    "---\n",
    "\n",
    "<p style=\"font-size:smaller\">(c) 2016 Lorena A. Barba. Free to use under Creative Commons Attribution <a href=\"https://creativecommons.org/licenses/by/4.0/\">CC-BY 4.0 License</a>. This notebook was written for the tutorial <a href=\"https://github.com/barbagroup/jupyter-tutorial/blob/master/World-of-Jupyter.md\">\"The world of Jupyter\"</a> at the Huazhong University of Science and Technology (HUST), Wuhan, China.\n",
    "</p>"
   ]
  }
 ],
 "metadata": {
  "kernelspec": {
   "display_name": "Python 3",
   "language": "python",
   "name": "python3"
  },
  "language_info": {
   "codemirror_mode": {
    "name": "ipython",
    "version": 3
   },
   "file_extension": ".py",
   "mimetype": "text/x-python",
   "name": "python",
   "nbconvert_exporter": "python",
   "pygments_lexer": "ipython3",
   "version": "3.5.1"
  }
 },
 "nbformat": 4,
 "nbformat_minor": 0
}
