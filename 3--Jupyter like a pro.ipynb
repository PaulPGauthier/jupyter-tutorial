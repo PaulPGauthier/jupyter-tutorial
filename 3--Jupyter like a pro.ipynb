{
 "cells": [
  {
   "cell_type": "markdown",
   "metadata": {},
   "source": [
    "# Jupyter like a pro\n",
    "\n"
   ]
  },
  {
   "cell_type": "markdown",
   "metadata": {},
   "source": [
    "---\n",
    "\n",
    "<p style=\"font-size:smaller\">(c) 2016 Lorena A. Barba. Free to use under Creative Commons Attribution <a href=\"https://creativecommons.org/licenses/by/4.0/\">CC-BY 4.0 License</a>. This notebook was written for the tutorial <a href=\"https://github.com/barbagroup/jupyter-tutorial/blob/master/World-of-Jupyter.md\">\"The world of Jupyter\"</a> at the Huazhong University of Science and Technology (HUST), Wuhan, China.\n",
    "</p>"
   ]
  }
 ],
 "metadata": {
  "kernelspec": {
   "display_name": "Python 3",
   "language": "python",
   "name": "python3"
  },
  "language_info": {
   "codemirror_mode": {
    "name": "ipython",
    "version": 3
   },
   "file_extension": ".py",
   "mimetype": "text/x-python",
   "name": "python",
   "nbconvert_exporter": "python",
   "pygments_lexer": "ipython3",
   "version": "3.5.1"
  }
 },
 "nbformat": 4,
 "nbformat_minor": 0
}
